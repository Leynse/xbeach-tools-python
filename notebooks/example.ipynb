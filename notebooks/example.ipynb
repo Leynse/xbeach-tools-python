{
 "metadata": {
  "name": "",
  "signature": "sha256:4e6e6bdaa85525e00aa46706e658adc39ecaef82d04feaddc892be6da5ebefde"
 },
 "nbformat": 3,
 "nbformat_minor": 0,
 "worksheets": [
  {
   "cells": [
    {
     "cell_type": "code",
     "collapsed": false,
     "input": [
      "import numpy as np\n",
      "from oceanwaves import OceanWaves\n",
      "from xbeachtools import XBeachModel"
     ],
     "language": "python",
     "metadata": {},
     "outputs": [],
     "prompt_number": 1
    },
    {
     "cell_type": "code",
     "collapsed": false,
     "input": [
      "# prepare hydraulic boundary conditions\n",
      "ow = OceanWaves(energy=[1,2,1],\n",
      "                time=[0,3600,7200],\n",
      "                energy_units='m')\n",
      "\n",
      "# prepare bathymetry\n",
      "x = np.arange(0, 1000, 10)\n",
      "z = .1 * x\n",
      "\n",
      "# construct xbeach model\n",
      "xb = XBeachModel(D50=350e-6,\n",
      "                 tstop=3600)\n",
      "xb.set_bathymetry(x, z)\n",
      "xb.set_waves(ow)\n",
      "\n",
      "# write xbeach model\n",
      "xb.write('.')\n",
      "\n",
      "xb"
     ],
     "language": "python",
     "metadata": {},
     "outputs": [
      {
       "metadata": {},
       "output_type": "pyout",
       "prompt_number": 2,
       "text": [
        "XBeach Model Object:\n",
        "\n",
        "    D50        = 0.0003\n",
        "    tstop      = 3600\n",
        "\n",
        "  bathymetry:\n",
        "    ny         = 0\n",
        "    nx         = 99\n",
        "    xfile      = x.txt\n",
        "    depfile    = z.txt\n",
        "\n",
        "  waves:\n",
        "    bcfile     = filelist.txt\n",
        "    instat     = jons\n",
        "\n"
       ]
      }
     ],
     "prompt_number": 2
    },
    {
     "cell_type": "code",
     "collapsed": false,
     "input": [],
     "language": "python",
     "metadata": {},
     "outputs": [],
     "prompt_number": 3
    },
    {
     "cell_type": "code",
     "collapsed": false,
     "input": [],
     "language": "python",
     "metadata": {},
     "outputs": []
    }
   ],
   "metadata": {}
  }
 ]
}